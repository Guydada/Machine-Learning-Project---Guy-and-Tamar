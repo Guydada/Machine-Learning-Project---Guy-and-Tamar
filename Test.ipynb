{
 "cells": [
  {
   "cell_type": "code",
   "execution_count": 1,
   "id": "7d942f25",
   "metadata": {
    "pycharm": {
     "name": "#%%\n"
    }
   },
   "outputs": [],
   "source": [
    "from time import strptime\n",
    "import pandas as pd\n",
    "import numpy as np\n",
    "import matplotlib as plt"
   ]
  },
  {
   "cell_type": "code",
   "execution_count": 2,
   "outputs": [],
   "source": [
    "# Supplementary functions for data parsing and tidying\n",
    "\n",
    "# Month to int function\n",
    "from matplotlib.pyplot import plot, xlabel, ylabel, title, show\n",
    "\n",
    "def month_str_to_int(month): # convert a month's name to a float number\n",
    "    try:\n",
    "        month_num = strptime(month, '%B').tm_mon\n",
    "    except:\n",
    "        return None\n",
    "    return month_num\n",
    "\n",
    "\n",
    "def convert_column_to_num_month(df, column_name): #apply month_str_to_int to a whole column\n",
    "    df = df[column_name]\n",
    "    df = df.apply(month_str_to_int)\n",
    "    df = df.apply(lambda x: \"{:.0f}\".\n",
    "                  format(x) if not pd.isnull(x) else x) # format as int\n",
    "    return df\n",
    "\n",
    "\n",
    "def csv_load(file): # suuplementry to load a CSV file and return as df, in the future to be extended\n",
    "    df = pd.read_csv(file)\n",
    "    return df\n",
    "\n",
    "#Correlation creator\n",
    "## This function shall be used for numeric features only\n",
    "\n",
    "def plot_correlations(feature1, feature2):\n",
    "    plot(df[feature1], df[feature2],)\n",
    "    xlabel(feature1)\n",
    "    ylabel(feature2)\n",
    "    title((\"The correlation between {} and {}\".format(feature1, feature2)))\n",
    "    show()\n",
    "    return"
   ],
   "metadata": {
    "collapsed": false,
    "pycharm": {
     "name": "#%%\n"
    }
   }
  },
  {
   "cell_type": "code",
   "execution_count": 3,
   "outputs": [],
   "source": [
    "# Main build\n",
    "\n",
    "df = csv_load(\"Data/feature_data.csv\") #Reading the CSV data file\n",
    "features = df.columns\n",
    "\n",
    "# Data manipulations\n",
    "\n",
    "df[\"order_month\"] = convert_column_to_num_month(df, \"order_month\")\n",
    "\n",
    "# Plotting\n",
    "\n",
    "\n"
   ],
   "metadata": {
    "collapsed": false,
    "pycharm": {
     "name": "#%%\n"
    }
   }
  }
 ],
 "metadata": {
  "kernelspec": {
   "display_name": "Python 3",
   "language": "python",
   "name": "python3"
  },
  "language_info": {
   "codemirror_mode": {
    "name": "ipython",
    "version": 3
   },
   "file_extension": ".py",
   "mimetype": "text/x-python",
   "name": "python",
   "nbconvert_exporter": "python",
   "pygments_lexer": "ipython3",
   "version": "3.8.8"
  }
 },
 "nbformat": 4,
 "nbformat_minor": 5
}