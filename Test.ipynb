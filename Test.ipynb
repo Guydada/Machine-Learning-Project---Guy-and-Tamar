{
 "cells": [
  {
   "cell_type": "code",
   "execution_count": 50,
   "id": "c9382182",
   "metadata": {
    "pycharm": {
     "name": "#%%\n"
    }
   },
   "outputs": [],
   "source": [
    "from time import strptime\n",
    "import pandas as pd\n",
    "import numpy as np\n",
    "import matplotlib.pyplot as plt\n",
    "from collections import Counter\n",
    "from matplotlib.pyplot import figure\n"
   ]
  },
  {
   "cell_type": "code",
   "execution_count": 51,
   "id": "45a4c2cf",
   "metadata": {
    "collapsed": false,
    "jupyter": {
     "outputs_hidden": false
    },
    "pycharm": {
     "name": "#%%\n"
    }
   },
   "outputs": [],
   "source": [
    "# Supplementary functions for data parsing and tidying\n",
    "\n",
    "# Month to int function\n",
    "\n",
    "def month_str_to_int(month): # convert a month's name to a float number\n",
    "    try:\n",
    "        month_num = strptime(month, '%B').tm_mon\n",
    "    except:\n",
    "        return None\n",
    "    return month_num\n",
    "\n",
    "\n",
    "def convert_column_to_num_month(df, column_name): #apply month_str_to_int to a whole column\n",
    "    df = df[column_name]\n",
    "    df = df.apply(month_str_to_int)\n",
    "    df = df.apply(lambda x: \"{:.0f}\".\n",
    "                  format(x) if not pd.isnull(x) else x) # format as int\n",
    "    df = df.apply(lambda x: int(x) if not pd.isnull(x) else x)\n",
    "    return df\n",
    "\n",
    "# def strip_week_column():# Guy\n",
    "\n",
    "\n",
    "def csv_load(file): # suuplementry to load a CSV file and return as df, in the future to be extended\n",
    "    df = pd.read_csv(file)\n",
    "    return df\n",
    "\n",
    "#Correlation creator\n",
    "## This function shall be used for numeric features only\n",
    "\n",
    "def plot_correlations(feature1, feature2):\n",
    "    plt.plot(df[feature1], df[feature2])\n",
    "    plt.xlabel(feature1)\n",
    "    plt.ylabel(feature2)\n",
    "    plt.title((\"The correlation between {} and {}\".format(feature1, feature2)))\n",
    "    plt.show()\n",
    "    return\n",
    "\n",
    "\n",
    "def plot_scatter(feature1, feature2):\n",
    "    plt.scatter(df[feature1], df[feature2])\n",
    "    plt.grid()\n",
    "    plt.xlabel(feature1)\n",
    "    plt.ylabel(feature2)\n",
    "    plt.title((\"The correlation between {} and {}\".format(feature1, feature2)))\n",
    "    plt.show()\n",
    "    return\n"
   ]
  },
  {
   "cell_type": "code",
   "execution_count": 52,
   "id": "31ba01d8",
   "metadata": {
    "collapsed": false,
    "jupyter": {
     "outputs_hidden": false
    },
    "pycharm": {
     "name": "#%%\n"
    }
   },
   "outputs": [],
   "source": [
    "# Main build\n",
    "\n",
    "df = csv_load(\"Data/feature_data.csv\") #Reading the CSV data file\n",
    "features = df.columns\n",
    "\n",
    "# Data manipulations\n",
    "\n",
    "df[\"order_month\"] = convert_column_to_num_month(df, \"order_month\")"
   ]
  },
  {
   "cell_type": "code",
   "execution_count": 53,
   "id": "65e59c3c",
   "metadata": {},
   "outputs": [],
   "source": [
    "# Part 1: Exploration, Basic Hypothesis\n",
    "\n",
    "# plot_correlations(\"changes\", \"prev_canceled\")"
   ]
  },
  {
   "cell_type": "code",
   "execution_count": 54,
   "outputs": [
    {
     "data": {
      "text/plain": "<Figure size 432x288 with 1 Axes>",
      "image/png": "[encoded data removed]"
     },
     "metadata": {
      "needs_background": "light"
     },
     "output_type": "display_data"
    }
   ],
   "source": [
    "#1 number of orders per month. Conclusion: August is the most...\n",
    "\n",
    "# plot_scatter(\"order_year\", \"time_until_order\")\n",
    "orders_per_month = dict(Counter(df['order_month']))\n",
    "months = sorted(list(orders_per_month.keys()))\n",
    "orders_num = [orders_per_month[val] for val in months]\n",
    "plt.barh(orders_num, months)\n",
    "plt.show()"
   ],
   "metadata": {
    "collapsed": false,
    "pycharm": {
     "name": "#%%\n"
    }
   }
  },
  {
   "cell_type": "code",
   "execution_count": 60,
   "outputs": [
    {
     "data": {
      "text/plain": "<Figure size 432x288 with 1 Axes>",
      "image/png": "[encoded data removed]"
     },
     "metadata": {
      "needs_background": "light"
     },
     "output_type": "display_data"
    },
    {
     "data": {
      "text/plain": "<Figure size 7500x7500 with 0 Axes>"
     },
     "metadata": {},
     "output_type": "display_data"
    }
   ],
   "source": [
    "#2 number of children affecting month of order\n",
    "df2 = df.groupby(['order_month', 'children']).count()\n",
    "# temo = list(df2.index)\n",
    "mont = [\"\".join(str(i)) for i in list(df2.index)]\n",
    "x = plt.barh(mont, df2['Unnamed: 0'])\n",
    "figure(figsize=(50, 50), dpi=150)\n",
    "plt.show()\n",
    "# CAll for a bit more hypothesys"
   ],
   "metadata": {
    "collapsed": false,
    "pycharm": {
     "name": "#%%\n"
    }
   }
  }
 ],
 "metadata": {
  "kernelspec": {
   "display_name": "Python 3",
   "language": "python",
   "name": "python3"
  },
  "language_info": {
   "codemirror_mode": {
    "name": "ipython",
    "version": 3
   },
   "file_extension": ".py",
   "mimetype": "text/x-python",
   "name": "python",
   "nbconvert_exporter": "python",
   "pygments_lexer": "ipython3",
   "version": "3.8.8"
  }
 },
 "nbformat": 4,
 "nbformat_minor": 5
}