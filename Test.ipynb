{
 "cells": [
  {
   "cell_type": "code",
   "execution_count": 2,
   "id": "f9e9b050",
   "metadata": {},
   "outputs": [
    {
     "name": "stdout",
     "output_type": "stream",
     "text": [
      "this is a test\n",
      "updated from pycharm\n"
     ]
    }
   ],
   "source": [
    "print(\"this is a test\")\n",
    "print(\"updated from pycharm\")"
   ]
  },
  {
   "cell_type": "code",
   "execution_count": null,
   "id": "53b70a42",
   "metadata": {},
   "outputs": [],
   "source": [
    "print(\"I am now adding something\")\n",
    "1+2"
   ]
  }
 ],
 "metadata": {
  "kernelspec": {
   "display_name": "Python 3",
   "language": "python",
   "name": "python3"
  },
  "language_info": {
   "codemirror_mode": {
    "name": "ipython",
    "version": 3
   },
   "file_extension": ".py",
   "mimetype": "text/x-python",
   "name": "python",
   "nbconvert_exporter": "python",
   "pygments_lexer": "ipython3",
   "version": "3.8.8"
  }
 },
 "nbformat": 4,
 "nbformat_minor": 5
}
