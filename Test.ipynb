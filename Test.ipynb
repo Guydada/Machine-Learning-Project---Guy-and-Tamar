{
 "cells": [
  {
   "cell_type": "code",
   "execution_count": 2,
   "id": "7d942f25",
   "metadata": {},
   "outputs": [
    {
     "name": "stdout",
     "output_type": "stream",
     "text": [
      "this is a test\n",
      "updated from pycharm\n"
     ]
    }
   ],
   "source": [
    "import numpy as np\n",
    "\n",
    "print(\"this is a test\")\n",
    "print(\"updated from pycharm\")"
   ]
  },
  {
   "cell_type": "code",
   "execution_count": null,
   "id": "41a67760",
   "metadata": {},
   "outputs": [],
   "source": [
    "print(\"I am now adding something\")\n",
    "1+2"
   ]
  },
  {
   "cell_type": "code",
   "execution_count": null,
   "id": "cc4cc269",
   "metadata": {
    "collapsed": false,
    "jupyter": {
     "outputs_hidden": false
    },
    "pycharm": {
     "name": "#%%\n"
    }
   },
   "outputs": [],
   "source": [
    "df = np.zeros(3,3)\n",
    "print(df)"
   ]
  },
  {
   "cell_type": "code",
   "execution_count": null,
   "id": "fa4b7716",
   "metadata": {
    "collapsed": false,
    "jupyter": {
     "outputs_hidden": false
    },
    "pycharm": {
     "name": "#%%\n"
    }
   },
   "outputs": [],
   "source": [
    "print(\"this is an update\")\n",
    "\n",
    "print(\"thiss\")\n"
   ]
  },
  {
   "cell_type": "code",
   "execution_count": null,
   "id": "6e2d110b",
   "metadata": {},
   "outputs": [],
   "source": [
    "print(\"those changes ere made with Jupyter\")\n",
    "print(\"1\")"
   ]
  }
 ],
 "metadata": {
  "kernelspec": {
   "display_name": "Python 3",
   "language": "python",
   "name": "python3"
  },
  "language_info": {
   "codemirror_mode": {
    "name": "ipython",
    "version": 3
   },
   "file_extension": ".py",
   "mimetype": "text/x-python",
   "name": "python",
   "nbconvert_exporter": "python",
   "pygments_lexer": "ipython3",
   "version": "3.8.8"
  }
 },
 "nbformat": 4,
 "nbformat_minor": 5
}